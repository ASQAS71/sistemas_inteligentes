{
 "cells": [
  {
   "cell_type": "markdown",
   "source": [
    "Importação de bibliotecas utilizadas"
   ],
   "metadata": {
    "collapsed": false
   },
   "id": "6011e11772cb3a2c"
  },
  {
   "cell_type": "code",
   "execution_count": 1,
   "outputs": [],
   "source": [
    "import numpy as np\n",
    "import pandas as pd\n",
    "import matplotlib.pyplot as pyplot"
   ],
   "metadata": {
    "collapsed": false,
    "ExecuteTime": {
     "end_time": "2023-09-11T22:47:17.309719700Z",
     "start_time": "2023-09-11T22:47:16.345469800Z"
    }
   },
   "id": "55693e30b75f5a5d"
  },
  {
   "cell_type": "markdown",
   "source": [
    "Criação do dataframe"
   ],
   "metadata": {
    "collapsed": false
   },
   "id": "d21d623ee4a925ed"
  },
  {
   "cell_type": "code",
   "execution_count": 2,
   "outputs": [],
   "source": [
    "df = pd.read_csv(\"../EMG.csv\", sep=',', names=[\"Leitura Sinal 1\", \"Leitura Sinal 2\"])\n",
    "df.index.name = \"Registro\""
   ],
   "metadata": {
    "collapsed": false,
    "ExecuteTime": {
     "end_time": "2023-09-11T22:47:17.353848500Z",
     "start_time": "2023-09-11T22:47:17.315284Z"
    }
   },
   "id": "f793fc43c9d5b4ae"
  },
  {
   "cell_type": "code",
   "execution_count": 3,
   "outputs": [
    {
     "data": {
      "text/plain": "          Leitura Sinal 1  Leitura Sinal 2\nRegistro                                  \n49985              2439.0           2107.0\n49986              2394.0           2087.0\n49987              2352.0           2065.0\n49988              2320.0           2021.0\n49989              2338.0           1951.0\n49990              2290.0           1887.0\n49991              2224.0           1866.0\n49992              2142.0           1841.0\n49993              2211.0           1871.0\n49994              2366.0           1936.0\n49995              2346.0           1932.0\n49996              2311.0           1888.0\n49997              2234.0           1904.0\n49998              2167.0           1920.0\n49999              2255.0           1859.0",
      "text/html": "<div>\n<style scoped>\n    .dataframe tbody tr th:only-of-type {\n        vertical-align: middle;\n    }\n\n    .dataframe tbody tr th {\n        vertical-align: top;\n    }\n\n    .dataframe thead th {\n        text-align: right;\n    }\n</style>\n<table border=\"1\" class=\"dataframe\">\n  <thead>\n    <tr style=\"text-align: right;\">\n      <th></th>\n      <th>Leitura Sinal 1</th>\n      <th>Leitura Sinal 2</th>\n    </tr>\n    <tr>\n      <th>Registro</th>\n      <th></th>\n      <th></th>\n    </tr>\n  </thead>\n  <tbody>\n    <tr>\n      <th>49985</th>\n      <td>2439.0</td>\n      <td>2107.0</td>\n    </tr>\n    <tr>\n      <th>49986</th>\n      <td>2394.0</td>\n      <td>2087.0</td>\n    </tr>\n    <tr>\n      <th>49987</th>\n      <td>2352.0</td>\n      <td>2065.0</td>\n    </tr>\n    <tr>\n      <th>49988</th>\n      <td>2320.0</td>\n      <td>2021.0</td>\n    </tr>\n    <tr>\n      <th>49989</th>\n      <td>2338.0</td>\n      <td>1951.0</td>\n    </tr>\n    <tr>\n      <th>49990</th>\n      <td>2290.0</td>\n      <td>1887.0</td>\n    </tr>\n    <tr>\n      <th>49991</th>\n      <td>2224.0</td>\n      <td>1866.0</td>\n    </tr>\n    <tr>\n      <th>49992</th>\n      <td>2142.0</td>\n      <td>1841.0</td>\n    </tr>\n    <tr>\n      <th>49993</th>\n      <td>2211.0</td>\n      <td>1871.0</td>\n    </tr>\n    <tr>\n      <th>49994</th>\n      <td>2366.0</td>\n      <td>1936.0</td>\n    </tr>\n    <tr>\n      <th>49995</th>\n      <td>2346.0</td>\n      <td>1932.0</td>\n    </tr>\n    <tr>\n      <th>49996</th>\n      <td>2311.0</td>\n      <td>1888.0</td>\n    </tr>\n    <tr>\n      <th>49997</th>\n      <td>2234.0</td>\n      <td>1904.0</td>\n    </tr>\n    <tr>\n      <th>49998</th>\n      <td>2167.0</td>\n      <td>1920.0</td>\n    </tr>\n    <tr>\n      <th>49999</th>\n      <td>2255.0</td>\n      <td>1859.0</td>\n    </tr>\n  </tbody>\n</table>\n</div>"
     },
     "execution_count": 3,
     "metadata": {},
     "output_type": "execute_result"
    }
   ],
   "source": [
    "df.tail(15)"
   ],
   "metadata": {
    "collapsed": false,
    "ExecuteTime": {
     "end_time": "2023-09-11T22:47:17.370649700Z",
     "start_time": "2023-09-11T22:47:17.347738300Z"
    }
   },
   "id": "8fc1ae5da92ff04c"
  },
  {
   "cell_type": "markdown",
   "source": [
    "Definição do problema\n",
    "\n",
    "- Considere que exista um sistema que\n",
    "consegue predizer expressões faciais\n",
    "forçadas, dado sinais de\n",
    "eletromiografia.\n",
    "\n",
    "<br/>\n",
    "\n",
    "- Imagine que esse sistema faça a\n",
    "aquisição dos sinais através de dois\n",
    "sensores posicionados no corrugador\n",
    "do supercílio e no zigomático maior\n",
    "\n",
    "<br/>\n",
    "<br/>\n",
    "\n",
    "![Músculos Faciais](../musculos%20faciais.png)\n",
    "\n",
    "<br/>\n",
    "<br/>\n",
    "\n",
    "- Considere que o dispositivo que faz as\n",
    "aquisições do sinal com uma taxa de\n",
    "amostragem de 1KHz.\n",
    "\n",
    "<br/>\n",
    "\n",
    "- Em uma determinada análise, um\n",
    "pesquisador se submeteu ao processo\n",
    "de aquisição dos sinais para cinco\n",
    "diferentes gestos.\n",
    "\n",
    "<br/>\n",
    "\n",
    "- Considere que para cada gesto a coleta\n",
    "dos dados foi realizada durante 1\n",
    "segundo.\n",
    "\n",
    "<br/>\n",
    "\n",
    "- Ou seja, para cada gesto há 1000 registros (pois 1KHz são 1000 ciclos/sec)"
   ],
   "metadata": {
    "collapsed": false
   },
   "id": "fb0e5e28adaa1851"
  },
  {
   "cell_type": "markdown",
   "source": [
    "## Faça uma visualização inicial dos dados através do gráfico de espalhamento. Nessa etapa levante hipóteses sobre quais serão as características de um modelo que consegue entender o padrão entre variáveis regressoras e variáveis observadas"
   ],
   "metadata": {
    "collapsed": false
   },
   "id": "29ea1df0aef8aacc"
  },
  {
   "cell_type": "code",
   "execution_count": 4,
   "outputs": [
    {
     "name": "stdout",
     "output_type": "stream",
     "text": [
      "(50000, 2)\n"
     ]
    }
   ],
   "source": [
    "N, p = df.shape"
   ],
   "metadata": {
    "collapsed": false,
    "ExecuteTime": {
     "end_time": "2023-09-11T22:47:17.406189300Z",
     "start_time": "2023-09-11T22:47:17.366130600Z"
    }
   },
   "id": "6559bb1d73256642"
  }
 ],
 "metadata": {
  "kernelspec": {
   "display_name": "Python 3",
   "language": "python",
   "name": "python3"
  },
  "language_info": {
   "codemirror_mode": {
    "name": "ipython",
    "version": 2
   },
   "file_extension": ".py",
   "mimetype": "text/x-python",
   "name": "python",
   "nbconvert_exporter": "python",
   "pygments_lexer": "ipython2",
   "version": "2.7.6"
  }
 },
 "nbformat": 4,
 "nbformat_minor": 5
}
