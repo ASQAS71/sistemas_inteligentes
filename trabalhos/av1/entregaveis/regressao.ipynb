{
 "cells": [
  {
   "cell_type": "markdown",
   "source": [
    "Importação de bibliotecas"
   ],
   "metadata": {
    "collapsed": false
   },
   "id": "b5d5f8c161b1e025"
  },
  {
   "cell_type": "code",
   "execution_count": null,
   "id": "initial_id",
   "metadata": {
    "collapsed": true
   },
   "outputs": [],
   "source": [
    "import pandas as pd\n",
    "import numpy as np\n",
    "import matplotlib.pyplot as plt"
   ]
  },
  {
   "cell_type": "markdown",
   "source": [
    "![Pseudocódigo](../pseudocodigo.png)"
   ],
   "metadata": {
    "collapsed": false
   },
   "id": "b6b483f37bfb448f"
  },
  {
   "cell_type": "markdown",
   "source": [
    "Criação de dataframe"
   ],
   "metadata": {
    "collapsed": false
   },
   "id": "bcde1bab6c6f3905"
  },
  {
   "cell_type": "code",
   "execution_count": null,
   "outputs": [],
   "source": [
    "df = pd.read_csv()"
   ],
   "metadata": {
    "collapsed": false
   },
   "id": "7ddeea86872f87cd"
  }
 ],
 "metadata": {
  "kernelspec": {
   "display_name": "Python 3",
   "language": "python",
   "name": "python3"
  },
  "language_info": {
   "codemirror_mode": {
    "name": "ipython",
    "version": 2
   },
   "file_extension": ".py",
   "mimetype": "text/x-python",
   "name": "python",
   "nbconvert_exporter": "python",
   "pygments_lexer": "ipython2",
   "version": "2.7.6"
  }
 },
 "nbformat": 4,
 "nbformat_minor": 5
}
